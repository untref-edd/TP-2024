{
 "cells": [
  {
   "cell_type": "markdown",
   "id": "34ffd3a6-dab6-4120-b014-09be52dfc14e",
   "metadata": {
    "editable": true,
    "slideshow": {
     "slide_type": ""
    },
    "tags": []
   },
   "source": [
    "# Trabajo Práctico de Estructuras de Datos\n",
    "\n",
    "### Título: Implementación de un Crawler y Análisis de Grafos en `untref.edu.ar`\n",
    "\n",
    "#### Nombre del Grupo: XXXXXX\n",
    "\n",
    "#### Integrantes del Grupo:\n",
    "- Nombre 1 <[nombre1@untref.edu.ar](mailto:nombre1@untref.edu.ar)>\n",
    "- Nombre 2 [nombre2@untref.edu.ar](mailto:nombre2@untref.edu.ar)\n",
    "- Nombre 3 [nombre3@untref.edu.ar](mailto:nombre3@untref.edu.ar)\n",
    "- Nombre 4 [nombre4@untref.edu.ar](mailto:nombre4@untref.edu.ar)\n",
    "- Nombre 5 [nombre5@untref.edu.ar](mailto:nombre5@untref.edu.ar)\n"
   ]
  },
  {
   "cell_type": "markdown",
   "id": "47dab0c3-6da3-4e2e-aa06-4d03b60516b2",
   "metadata": {
    "editable": true,
    "slideshow": {
     "slide_type": ""
    },
    "tags": []
   },
   "source": [
    "## Introducción"
   ]
  },
  {
   "cell_type": "markdown",
   "id": "513151cb-1f0f-4451-8a14-ff0572545b17",
   "metadata": {
    "editable": true,
    "slideshow": {
     "slide_type": ""
    },
    "tags": []
   },
   "source": [
    "## Implementación del Crawler"
   ]
  },
  {
   "cell_type": "markdown",
   "id": "897c9b20-5535-4a6d-8201-e0ecaf18ea63",
   "metadata": {
    "editable": true,
    "slideshow": {
     "slide_type": ""
    },
    "tags": []
   },
   "source": [
    "### Funcionalidad Básica"
   ]
  },
  {
   "cell_type": "markdown",
   "id": "0127f6c2-14e5-4ddd-98cb-3eb402af9a75",
   "metadata": {
    "editable": true,
    "slideshow": {
     "slide_type": ""
    },
    "tags": []
   },
   "source": [
    "### Manejo de Excepciones y Robutez"
   ]
  },
  {
   "cell_type": "markdown",
   "id": "bcac94a5-3953-4f18-9151-5d5215d88bd4",
   "metadata": {
    "editable": true,
    "slideshow": {
     "slide_type": ""
    },
    "tags": []
   },
   "source": [
    "### Persistencia de Datos"
   ]
  },
  {
   "cell_type": "markdown",
   "id": "d256b482-86da-46b0-bfe6-18753cc55251",
   "metadata": {
    "editable": true,
    "slideshow": {
     "slide_type": ""
    },
    "tags": []
   },
   "source": [
    "### Ejemplo de Ejecución"
   ]
  },
  {
   "cell_type": "markdown",
   "id": "c09b0932-ed3d-4aff-8d45-b3b06d2446e9",
   "metadata": {
    "editable": true,
    "slideshow": {
     "slide_type": ""
    },
    "tags": []
   },
   "source": [
    "## Construcción del Grafo"
   ]
  },
  {
   "cell_type": "markdown",
   "id": "a8111107-7a57-44eb-8c47-a265c1b04e0a",
   "metadata": {
    "editable": true,
    "slideshow": {
     "slide_type": ""
    },
    "tags": []
   },
   "source": [
    "### Visualización del Grafo"
   ]
  },
  {
   "cell_type": "markdown",
   "id": "949f0d35-6e74-4ee5-b102-9144bd501dfa",
   "metadata": {
    "editable": true,
    "slideshow": {
     "slide_type": ""
    },
    "tags": []
   },
   "source": [
    "### Ejemplo de Grafo Construido"
   ]
  },
  {
   "cell_type": "markdown",
   "id": "4dd1098f-3a4f-46e0-9a30-f6cd84f12479",
   "metadata": {
    "editable": true,
    "slideshow": {
     "slide_type": ""
    },
    "tags": []
   },
   "source": [
    "### Componentes Fuertemente Conexas"
   ]
  },
  {
   "cell_type": "markdown",
   "id": "1ad42b32-87a9-4412-bfbb-e356ea41a5ef",
   "metadata": {
    "editable": true,
    "slideshow": {
     "slide_type": ""
    },
    "tags": []
   },
   "source": [
    "### Visualización de las Componentes Fuertemente Conexas"
   ]
  },
  {
   "cell_type": "markdown",
   "id": "d8d89d46-4f09-4f69-a3b4-a3faaf3b78d2",
   "metadata": {
    "editable": true,
    "slideshow": {
     "slide_type": ""
    },
    "tags": []
   },
   "source": [
    "## Cálculo del PageRank"
   ]
  },
  {
   "cell_type": "markdown",
   "id": "eefdd646-2ca0-43fc-8962-9bf7293eb1a9",
   "metadata": {
    "editable": true,
    "slideshow": {
     "slide_type": ""
    },
    "tags": []
   },
   "source": [
    "### Resultados del PageRank"
   ]
  },
  {
   "cell_type": "markdown",
   "id": "a789eb23-9a7a-4403-a873-19fb6b1bc03c",
   "metadata": {
    "editable": true,
    "slideshow": {
     "slide_type": ""
    },
    "tags": []
   },
   "source": [
    "### Visualización del PageRank"
   ]
  },
  {
   "cell_type": "markdown",
   "id": "310c1359-f9ff-4a0e-b551-52db7a596b15",
   "metadata": {
    "editable": true,
    "slideshow": {
     "slide_type": ""
    },
    "tags": []
   },
   "source": [
    "## Conclusiones"
   ]
  },
  {
   "cell_type": "markdown",
   "id": "34af7f87-8aea-4d41-adde-7c2b3347c798",
   "metadata": {
    "editable": true,
    "slideshow": {
     "slide_type": ""
    },
    "tags": []
   },
   "source": [
    "### Futuras Mejoras"
   ]
  },
  {
   "cell_type": "markdown",
   "id": "60c0f777-58dd-4e8f-8fe0-e2baea951b70",
   "metadata": {
    "editable": true,
    "slideshow": {
     "slide_type": ""
    },
    "tags": []
   },
   "source": [
    "### Reflexiones Finales"
   ]
  },
  {
   "cell_type": "markdown",
   "id": "33038d29-be75-4cc4-9083-2b0c3d5e7de1",
   "metadata": {
    "editable": true,
    "slideshow": {
     "slide_type": ""
    },
    "tags": []
   },
   "source": [
    "## Referencias\n",
    "\n",
    "- [1] Documento de referencia 1\n",
    "- [2] Documento de referencia 2\n",
    "- [3] Biblioteca utilizada 1: `networkx`\n",
    "- [4] Biblioteca utilizada 2: `matplotlib`"
   ]
  }
 ],
 "metadata": {
  "kernelspec": {
   "display_name": "Python 3 (ipykernel)",
   "language": "python",
   "name": "python3"
  },
  "language_info": {
   "codemirror_mode": {
    "name": "ipython",
    "version": 3
   },
   "file_extension": ".py",
   "mimetype": "text/x-python",
   "name": "python",
   "nbconvert_exporter": "python",
   "pygments_lexer": "ipython3",
   "version": "3.12.3"
  }
 },
 "nbformat": 4,
 "nbformat_minor": 5
}
